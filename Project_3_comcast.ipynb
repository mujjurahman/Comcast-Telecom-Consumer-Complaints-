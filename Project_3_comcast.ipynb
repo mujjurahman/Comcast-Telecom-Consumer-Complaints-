{
 "cells": [
  {
   "cell_type": "markdown",
   "metadata": {
    "id": "opcEvdnSYEP-"
   },
   "source": [
    "#  Import data into Python environment.\n"
   ]
  },
  {
   "cell_type": "code",
   "execution_count": 1,
   "metadata": {
    "id": "DmbDs4hd9lTz"
   },
   "outputs": [],
   "source": [
    "import pandas as pd\n",
    "import numpy as np\n",
    "import matplotlib.pyplot as plt\n",
    "import scipy as sp\n",
    "from datetime import datetime,date"
   ]
  },
  {
   "cell_type": "code",
   "execution_count": 2,
   "metadata": {
    "id": "dCQZ2EB0-Lki"
   },
   "outputs": [],
   "source": [
    "df=pd.read_csv(r'C:\\Users\\mujee\\Desktop\\DATA SCIENCE\\SIMPLILEARN MODULES\\DATA SCIENCE WITH PYTHON\\Project\\Project 3\\Data source\\Comcast_telecom_complaints_data.csv')"
   ]
  },
  {
   "cell_type": "code",
   "execution_count": 3,
   "metadata": {
    "colab": {
     "base_uri": "https://localhost:8080/",
     "height": 304
    },
    "id": "RdS_o3O5ThX2",
    "outputId": "27fb3bdb-7bea-4cde-f8d3-5ef8dff22be4"
   },
   "outputs": [
    {
     "data": {
      "text/html": [
       "<div>\n",
       "<style scoped>\n",
       "    .dataframe tbody tr th:only-of-type {\n",
       "        vertical-align: middle;\n",
       "    }\n",
       "\n",
       "    .dataframe tbody tr th {\n",
       "        vertical-align: top;\n",
       "    }\n",
       "\n",
       "    .dataframe thead th {\n",
       "        text-align: right;\n",
       "    }\n",
       "</style>\n",
       "<table border=\"1\" class=\"dataframe\">\n",
       "  <thead>\n",
       "    <tr style=\"text-align: right;\">\n",
       "      <th></th>\n",
       "      <th>Ticket #</th>\n",
       "      <th>Customer Complaint</th>\n",
       "      <th>Date</th>\n",
       "      <th>Date_month_year</th>\n",
       "      <th>Time</th>\n",
       "      <th>Received Via</th>\n",
       "      <th>City</th>\n",
       "      <th>State</th>\n",
       "      <th>Zip code</th>\n",
       "      <th>Status</th>\n",
       "      <th>Filing on Behalf of Someone</th>\n",
       "    </tr>\n",
       "  </thead>\n",
       "  <tbody>\n",
       "    <tr>\n",
       "      <th>0</th>\n",
       "      <td>250635</td>\n",
       "      <td>Comcast Cable Internet Speeds</td>\n",
       "      <td>22-04-15</td>\n",
       "      <td>22-Apr-15</td>\n",
       "      <td>3:53:50 PM</td>\n",
       "      <td>Customer Care Call</td>\n",
       "      <td>Abingdon</td>\n",
       "      <td>Maryland</td>\n",
       "      <td>21009</td>\n",
       "      <td>Closed</td>\n",
       "      <td>No</td>\n",
       "    </tr>\n",
       "    <tr>\n",
       "      <th>1</th>\n",
       "      <td>223441</td>\n",
       "      <td>Payment disappear - service got disconnected</td>\n",
       "      <td>04-08-15</td>\n",
       "      <td>04-Aug-15</td>\n",
       "      <td>10:22:56 AM</td>\n",
       "      <td>Internet</td>\n",
       "      <td>Acworth</td>\n",
       "      <td>Georgia</td>\n",
       "      <td>30102</td>\n",
       "      <td>Closed</td>\n",
       "      <td>No</td>\n",
       "    </tr>\n",
       "    <tr>\n",
       "      <th>2</th>\n",
       "      <td>242732</td>\n",
       "      <td>Speed and Service</td>\n",
       "      <td>18-04-15</td>\n",
       "      <td>18-Apr-15</td>\n",
       "      <td>9:55:47 AM</td>\n",
       "      <td>Internet</td>\n",
       "      <td>Acworth</td>\n",
       "      <td>Georgia</td>\n",
       "      <td>30101</td>\n",
       "      <td>Closed</td>\n",
       "      <td>Yes</td>\n",
       "    </tr>\n",
       "    <tr>\n",
       "      <th>3</th>\n",
       "      <td>277946</td>\n",
       "      <td>Comcast Imposed a New Usage Cap of 300GB that ...</td>\n",
       "      <td>05-07-15</td>\n",
       "      <td>05-Jul-15</td>\n",
       "      <td>11:59:35 AM</td>\n",
       "      <td>Internet</td>\n",
       "      <td>Acworth</td>\n",
       "      <td>Georgia</td>\n",
       "      <td>30101</td>\n",
       "      <td>Open</td>\n",
       "      <td>Yes</td>\n",
       "    </tr>\n",
       "    <tr>\n",
       "      <th>4</th>\n",
       "      <td>307175</td>\n",
       "      <td>Comcast not working and no service to boot</td>\n",
       "      <td>26-05-15</td>\n",
       "      <td>26-May-15</td>\n",
       "      <td>1:25:26 PM</td>\n",
       "      <td>Internet</td>\n",
       "      <td>Acworth</td>\n",
       "      <td>Georgia</td>\n",
       "      <td>30101</td>\n",
       "      <td>Solved</td>\n",
       "      <td>No</td>\n",
       "    </tr>\n",
       "  </tbody>\n",
       "</table>\n",
       "</div>"
      ],
      "text/plain": [
       "  Ticket #                                 Customer Complaint      Date  \\\n",
       "0   250635                      Comcast Cable Internet Speeds  22-04-15   \n",
       "1   223441       Payment disappear - service got disconnected  04-08-15   \n",
       "2   242732                                  Speed and Service  18-04-15   \n",
       "3   277946  Comcast Imposed a New Usage Cap of 300GB that ...  05-07-15   \n",
       "4   307175         Comcast not working and no service to boot  26-05-15   \n",
       "\n",
       "  Date_month_year         Time        Received Via      City     State  \\\n",
       "0       22-Apr-15   3:53:50 PM  Customer Care Call  Abingdon  Maryland   \n",
       "1       04-Aug-15  10:22:56 AM            Internet   Acworth   Georgia   \n",
       "2       18-Apr-15   9:55:47 AM            Internet   Acworth   Georgia   \n",
       "3       05-Jul-15  11:59:35 AM            Internet   Acworth   Georgia   \n",
       "4       26-May-15   1:25:26 PM            Internet   Acworth   Georgia   \n",
       "\n",
       "   Zip code  Status Filing on Behalf of Someone  \n",
       "0     21009  Closed                          No  \n",
       "1     30102  Closed                          No  \n",
       "2     30101  Closed                         Yes  \n",
       "3     30101    Open                         Yes  \n",
       "4     30101  Solved                          No  "
      ]
     },
     "execution_count": 3,
     "metadata": {},
     "output_type": "execute_result"
    }
   ],
   "source": [
    "df.head()"
   ]
  },
  {
   "cell_type": "markdown",
   "metadata": {
    "id": "FgyJJnK-Ya86"
   },
   "source": [
    "# Provide the trend chart for the number of complaints at monthly and daily granularity levels"
   ]
  },
  {
   "cell_type": "code",
   "execution_count": 4,
   "metadata": {
    "colab": {
     "base_uri": "https://localhost:8080/"
    },
    "id": "3eFT_2uyMzs9",
    "outputId": "6565314d-9064-45a3-f4dc-6cf7a6ae0743"
   },
   "outputs": [
    {
     "data": {
      "text/plain": [
       "(2224, 11)"
      ]
     },
     "execution_count": 4,
     "metadata": {},
     "output_type": "execute_result"
    }
   ],
   "source": [
    "df.shape"
   ]
  },
  {
   "cell_type": "code",
   "execution_count": 5,
   "metadata": {
    "colab": {
     "base_uri": "https://localhost:8080/"
    },
    "id": "pwbFMCLJP5uv",
    "outputId": "f5d160a7-0bb3-4fb8-df79-173e095adb7e"
   },
   "outputs": [
    {
     "name": "stderr",
     "output_type": "stream",
     "text": [
      "C:\\Users\\mujee\\AppData\\Local\\Temp/ipykernel_20064/3384187014.py:3: SettingWithCopyWarning: \n",
      "A value is trying to be set on a copy of a slice from a DataFrame\n",
      "\n",
      "See the caveats in the documentation: https://pandas.pydata.org/pandas-docs/stable/user_guide/indexing.html#returning-a-view-versus-a-copy\n",
      "  df['Date'][i]=datetime.strptime(df['Date'][i],'%d-%m-%y')\n"
     ]
    }
   ],
   "source": [
    "for i in range(0,2224):\n",
    "    \n",
    "    df['Date'][i]=datetime.strptime(df['Date'][i],'%d-%m-%y')\n"
   ]
  },
  {
   "cell_type": "code",
   "execution_count": 6,
   "metadata": {
    "colab": {
     "base_uri": "https://localhost:8080/",
     "height": 321
    },
    "id": "5U0pg09PXTAz",
    "outputId": "4fc3c2a1-ebe3-4ac2-b143-2ac757ac47d1"
   },
   "outputs": [
    {
     "data": {
      "text/html": [
       "<div>\n",
       "<style scoped>\n",
       "    .dataframe tbody tr th:only-of-type {\n",
       "        vertical-align: middle;\n",
       "    }\n",
       "\n",
       "    .dataframe tbody tr th {\n",
       "        vertical-align: top;\n",
       "    }\n",
       "\n",
       "    .dataframe thead th {\n",
       "        text-align: right;\n",
       "    }\n",
       "</style>\n",
       "<table border=\"1\" class=\"dataframe\">\n",
       "  <thead>\n",
       "    <tr style=\"text-align: right;\">\n",
       "      <th></th>\n",
       "      <th>Ticket #</th>\n",
       "      <th>Customer Complaint</th>\n",
       "      <th>Date</th>\n",
       "      <th>Date_month_year</th>\n",
       "      <th>Time</th>\n",
       "      <th>Received Via</th>\n",
       "      <th>City</th>\n",
       "      <th>State</th>\n",
       "      <th>Zip code</th>\n",
       "      <th>Status</th>\n",
       "      <th>Filing on Behalf of Someone</th>\n",
       "    </tr>\n",
       "  </thead>\n",
       "  <tbody>\n",
       "    <tr>\n",
       "      <th>0</th>\n",
       "      <td>250635</td>\n",
       "      <td>Comcast Cable Internet Speeds</td>\n",
       "      <td>2015-04-22 00:00:00</td>\n",
       "      <td>22-Apr-15</td>\n",
       "      <td>3:53:50 PM</td>\n",
       "      <td>Customer Care Call</td>\n",
       "      <td>Abingdon</td>\n",
       "      <td>Maryland</td>\n",
       "      <td>21009</td>\n",
       "      <td>Closed</td>\n",
       "      <td>No</td>\n",
       "    </tr>\n",
       "    <tr>\n",
       "      <th>1</th>\n",
       "      <td>223441</td>\n",
       "      <td>Payment disappear - service got disconnected</td>\n",
       "      <td>2015-08-04 00:00:00</td>\n",
       "      <td>04-Aug-15</td>\n",
       "      <td>10:22:56 AM</td>\n",
       "      <td>Internet</td>\n",
       "      <td>Acworth</td>\n",
       "      <td>Georgia</td>\n",
       "      <td>30102</td>\n",
       "      <td>Closed</td>\n",
       "      <td>No</td>\n",
       "    </tr>\n",
       "    <tr>\n",
       "      <th>2</th>\n",
       "      <td>242732</td>\n",
       "      <td>Speed and Service</td>\n",
       "      <td>2015-04-18 00:00:00</td>\n",
       "      <td>18-Apr-15</td>\n",
       "      <td>9:55:47 AM</td>\n",
       "      <td>Internet</td>\n",
       "      <td>Acworth</td>\n",
       "      <td>Georgia</td>\n",
       "      <td>30101</td>\n",
       "      <td>Closed</td>\n",
       "      <td>Yes</td>\n",
       "    </tr>\n",
       "    <tr>\n",
       "      <th>3</th>\n",
       "      <td>277946</td>\n",
       "      <td>Comcast Imposed a New Usage Cap of 300GB that ...</td>\n",
       "      <td>2015-07-05 00:00:00</td>\n",
       "      <td>05-Jul-15</td>\n",
       "      <td>11:59:35 AM</td>\n",
       "      <td>Internet</td>\n",
       "      <td>Acworth</td>\n",
       "      <td>Georgia</td>\n",
       "      <td>30101</td>\n",
       "      <td>Open</td>\n",
       "      <td>Yes</td>\n",
       "    </tr>\n",
       "    <tr>\n",
       "      <th>4</th>\n",
       "      <td>307175</td>\n",
       "      <td>Comcast not working and no service to boot</td>\n",
       "      <td>2015-05-26 00:00:00</td>\n",
       "      <td>26-May-15</td>\n",
       "      <td>1:25:26 PM</td>\n",
       "      <td>Internet</td>\n",
       "      <td>Acworth</td>\n",
       "      <td>Georgia</td>\n",
       "      <td>30101</td>\n",
       "      <td>Solved</td>\n",
       "      <td>No</td>\n",
       "    </tr>\n",
       "  </tbody>\n",
       "</table>\n",
       "</div>"
      ],
      "text/plain": [
       "  Ticket #                                 Customer Complaint  \\\n",
       "0   250635                      Comcast Cable Internet Speeds   \n",
       "1   223441       Payment disappear - service got disconnected   \n",
       "2   242732                                  Speed and Service   \n",
       "3   277946  Comcast Imposed a New Usage Cap of 300GB that ...   \n",
       "4   307175         Comcast not working and no service to boot   \n",
       "\n",
       "                  Date Date_month_year         Time        Received Via  \\\n",
       "0  2015-04-22 00:00:00       22-Apr-15   3:53:50 PM  Customer Care Call   \n",
       "1  2015-08-04 00:00:00       04-Aug-15  10:22:56 AM            Internet   \n",
       "2  2015-04-18 00:00:00       18-Apr-15   9:55:47 AM            Internet   \n",
       "3  2015-07-05 00:00:00       05-Jul-15  11:59:35 AM            Internet   \n",
       "4  2015-05-26 00:00:00       26-May-15   1:25:26 PM            Internet   \n",
       "\n",
       "       City     State  Zip code  Status Filing on Behalf of Someone  \n",
       "0  Abingdon  Maryland     21009  Closed                          No  \n",
       "1   Acworth   Georgia     30102  Closed                          No  \n",
       "2   Acworth   Georgia     30101  Closed                         Yes  \n",
       "3   Acworth   Georgia     30101    Open                         Yes  \n",
       "4   Acworth   Georgia     30101  Solved                          No  "
      ]
     },
     "execution_count": 6,
     "metadata": {},
     "output_type": "execute_result"
    }
   ],
   "source": [
    "df.head()"
   ]
  },
  {
   "cell_type": "code",
   "execution_count": 7,
   "metadata": {
    "id": "ifft0Kp1FazO"
   },
   "outputs": [],
   "source": [
    "month=[]\n",
    "day=[]\n",
    "for i in range(0,2224):\n",
    "    a=df['Date'][i].month\n",
    "    b=df['Date'][i].day\n",
    "    month.append(a)\n",
    "    day.append(b)\n",
    "\n",
    "month_unique=[1,2,3,4,5,6,7,8,9,10,11,12]\n",
    "\n"
   ]
  },
  {
   "cell_type": "code",
   "execution_count": 8,
   "metadata": {
    "id": "acFjnRn3V6TM"
   },
   "outputs": [],
   "source": [
    "month.sort()"
   ]
  },
  {
   "cell_type": "code",
   "execution_count": 9,
   "metadata": {
    "id": "T-M3oHg6aoh9"
   },
   "outputs": [],
   "source": [
    "month_df=pd.DataFrame(month)\n",
    "day_df=pd.DataFrame(day)"
   ]
  },
  {
   "cell_type": "code",
   "execution_count": 10,
   "metadata": {
    "colab": {
     "base_uri": "https://localhost:8080/"
    },
    "id": "KijCtsWKdE53",
    "outputId": "6db84583-3583-4db6-99fc-4938e9527cda"
   },
   "outputs": [
    {
     "data": {
      "text/plain": [
       "array([22,  4, 18,  5, 26,  6, 24, 23, 28, 13, 30, 27, 16, 29, 19, 20, 21,\n",
       "       14, 15, 25, 17, 31], dtype=int64)"
      ]
     },
     "execution_count": 10,
     "metadata": {},
     "output_type": "execute_result"
    }
   ],
   "source": [
    "day_df[0].unique()"
   ]
  },
  {
   "cell_type": "code",
   "execution_count": 11,
   "metadata": {
    "colab": {
     "base_uri": "https://localhost:8080/",
     "height": 530
    },
    "id": "PTzVemQsIzBH",
    "outputId": "77ad42bc-29d3-4cec-bb10-c0aa76184338"
   },
   "outputs": [
    {
     "data": {
      "text/plain": [
       "Text(0.5, 0, 'Months')"
      ]
     },
     "execution_count": 11,
     "metadata": {},
     "output_type": "execute_result"
    },
    {
     "data": {
      "image/png": "[encoded data removed]",
      "text/plain": [
       "<Figure size 720x576 with 1 Axes>"
      ]
     },
     "metadata": {
      "needs_background": "light"
     },
     "output_type": "display_data"
    }
   ],
   "source": [
    "plt.figure(figsize=(10,8))\n",
    "plt.plot(month_unique,month_df.value_counts(),color='green',linewidth=2,label='Complaints per month')\n",
    "plt.title('complaints at Monthly granularity')\n",
    "plt.ylabel('Complaints per month')\n",
    "plt.xlabel('Months')\n"
   ]
  },
  {
   "cell_type": "code",
   "execution_count": 12,
   "metadata": {
    "colab": {
     "base_uri": "https://localhost:8080/",
     "height": 530
    },
    "id": "vQ5EiBAgJunC",
    "outputId": "a0a65850-e559-47d2-b452-fbf6528f64ce"
   },
   "outputs": [
    {
     "data": {
      "text/plain": [
       "Text(0.5, 0, 'Days')"
      ]
     },
     "execution_count": 12,
     "metadata": {},
     "output_type": "execute_result"
    },
    {
     "data": {
      "image/png": "[encoded data removed]",
      "text/plain": [
       "<Figure size 720x576 with 1 Axes>"
      ]
     },
     "metadata": {
      "needs_background": "light"
     },
     "output_type": "display_data"
    }
   ],
   "source": [
    "plt.figure(figsize=(10,8))\n",
    "plt.plot(day_df[0].unique(),day_df.value_counts(),color='blue')\n",
    "plt.title('complaints at daily granularity for Whole Year')\n",
    "plt.ylabel('Complaints per day')\n",
    "plt.xlabel('Days')"
   ]
  },
  {
   "cell_type": "markdown",
   "metadata": {
    "id": "Kk7sVDizgOAT"
   },
   "source": [
    "# Provide a table with the frequency of complaint types."
   ]
  },
  {
   "cell_type": "code",
   "execution_count": 13,
   "metadata": {
    "colab": {
     "base_uri": "https://localhost:8080/"
    },
    "id": "EPJE7zEYgJM2",
    "outputId": "7f9ad454-fb40-4ca6-8dc2-a40bd546f9cf"
   },
   "outputs": [
    {
     "data": {
      "text/plain": [
       "Comcast                                          83\n",
       "Comcast Internet                                 18\n",
       "Comcast Data Cap                                 17\n",
       "comcast                                          13\n",
       "Comcast Billing                                  11\n",
       "                                                 ..\n",
       "Improper Billing and non resolution of issues     1\n",
       "Deceptive trade                                   1\n",
       "intermittent internet                             1\n",
       "Internet Speed on Wireless Connection             1\n",
       "Comcast, Ypsilanti MI Internet Speed              1\n",
       "Name: Customer Complaint, Length: 1841, dtype: int64"
      ]
     },
     "execution_count": 13,
     "metadata": {},
     "output_type": "execute_result"
    }
   ],
   "source": [
    "df['Customer Complaint'].value_counts()"
   ]
  },
  {
   "cell_type": "markdown",
   "metadata": {
    "id": "y7Dlxg0xg_fA"
   },
   "source": [
    "# Which complaint types are maximum i.e., around internet, network issues, or across any other domains."
   ]
  },
  {
   "cell_type": "code",
   "execution_count": 14,
   "metadata": {
    "colab": {
     "base_uri": "https://localhost:8080/",
     "height": 618
    },
    "id": "9DYmCSOFhWIX",
    "outputId": "ca7245d7-084b-4f37-f5e1-052c32976f99"
   },
   "outputs": [
    {
     "data": {
      "text/html": [
       "<div>\n",
       "<style scoped>\n",
       "    .dataframe tbody tr th:only-of-type {\n",
       "        vertical-align: middle;\n",
       "    }\n",
       "\n",
       "    .dataframe tbody tr th {\n",
       "        vertical-align: top;\n",
       "    }\n",
       "\n",
       "    .dataframe thead th {\n",
       "        text-align: right;\n",
       "    }\n",
       "</style>\n",
       "<table border=\"1\" class=\"dataframe\">\n",
       "  <thead>\n",
       "    <tr style=\"text-align: right;\">\n",
       "      <th></th>\n",
       "      <th>Ticket #</th>\n",
       "      <th>Customer Complaint</th>\n",
       "      <th>Date</th>\n",
       "      <th>Date_month_year</th>\n",
       "      <th>Time</th>\n",
       "      <th>Received Via</th>\n",
       "      <th>City</th>\n",
       "      <th>State</th>\n",
       "      <th>Zip code</th>\n",
       "      <th>Status</th>\n",
       "      <th>Filing on Behalf of Someone</th>\n",
       "    </tr>\n",
       "  </thead>\n",
       "  <tbody>\n",
       "    <tr>\n",
       "      <th>0</th>\n",
       "      <td>250635</td>\n",
       "      <td>Comcast Cable Internet Speeds</td>\n",
       "      <td>2015-04-22 00:00:00</td>\n",
       "      <td>22-Apr-15</td>\n",
       "      <td>3:53:50 PM</td>\n",
       "      <td>Customer Care Call</td>\n",
       "      <td>Abingdon</td>\n",
       "      <td>Maryland</td>\n",
       "      <td>21009</td>\n",
       "      <td>Closed</td>\n",
       "      <td>No</td>\n",
       "    </tr>\n",
       "    <tr>\n",
       "      <th>1</th>\n",
       "      <td>223441</td>\n",
       "      <td>Payment disappear - service got disconnected</td>\n",
       "      <td>2015-08-04 00:00:00</td>\n",
       "      <td>04-Aug-15</td>\n",
       "      <td>10:22:56 AM</td>\n",
       "      <td>Internet</td>\n",
       "      <td>Acworth</td>\n",
       "      <td>Georgia</td>\n",
       "      <td>30102</td>\n",
       "      <td>Closed</td>\n",
       "      <td>No</td>\n",
       "    </tr>\n",
       "    <tr>\n",
       "      <th>2</th>\n",
       "      <td>242732</td>\n",
       "      <td>Speed and Service</td>\n",
       "      <td>2015-04-18 00:00:00</td>\n",
       "      <td>18-Apr-15</td>\n",
       "      <td>9:55:47 AM</td>\n",
       "      <td>Internet</td>\n",
       "      <td>Acworth</td>\n",
       "      <td>Georgia</td>\n",
       "      <td>30101</td>\n",
       "      <td>Closed</td>\n",
       "      <td>Yes</td>\n",
       "    </tr>\n",
       "    <tr>\n",
       "      <th>3</th>\n",
       "      <td>277946</td>\n",
       "      <td>Comcast Imposed a New Usage Cap of 300GB that ...</td>\n",
       "      <td>2015-07-05 00:00:00</td>\n",
       "      <td>05-Jul-15</td>\n",
       "      <td>11:59:35 AM</td>\n",
       "      <td>Internet</td>\n",
       "      <td>Acworth</td>\n",
       "      <td>Georgia</td>\n",
       "      <td>30101</td>\n",
       "      <td>Open</td>\n",
       "      <td>Yes</td>\n",
       "    </tr>\n",
       "    <tr>\n",
       "      <th>4</th>\n",
       "      <td>307175</td>\n",
       "      <td>Comcast not working and no service to boot</td>\n",
       "      <td>2015-05-26 00:00:00</td>\n",
       "      <td>26-May-15</td>\n",
       "      <td>1:25:26 PM</td>\n",
       "      <td>Internet</td>\n",
       "      <td>Acworth</td>\n",
       "      <td>Georgia</td>\n",
       "      <td>30101</td>\n",
       "      <td>Solved</td>\n",
       "      <td>No</td>\n",
       "    </tr>\n",
       "    <tr>\n",
       "      <th>...</th>\n",
       "      <td>...</td>\n",
       "      <td>...</td>\n",
       "      <td>...</td>\n",
       "      <td>...</td>\n",
       "      <td>...</td>\n",
       "      <td>...</td>\n",
       "      <td>...</td>\n",
       "      <td>...</td>\n",
       "      <td>...</td>\n",
       "      <td>...</td>\n",
       "      <td>...</td>\n",
       "    </tr>\n",
       "    <tr>\n",
       "      <th>2219</th>\n",
       "      <td>213550</td>\n",
       "      <td>Service Availability</td>\n",
       "      <td>2015-02-04 00:00:00</td>\n",
       "      <td>04-Feb-15</td>\n",
       "      <td>9:13:18 AM</td>\n",
       "      <td>Customer Care Call</td>\n",
       "      <td>Youngstown</td>\n",
       "      <td>Florida</td>\n",
       "      <td>32466</td>\n",
       "      <td>Closed</td>\n",
       "      <td>No</td>\n",
       "    </tr>\n",
       "    <tr>\n",
       "      <th>2220</th>\n",
       "      <td>318775</td>\n",
       "      <td>Comcast Monthly Billing for Returned Modem</td>\n",
       "      <td>2015-02-06 00:00:00</td>\n",
       "      <td>06-Feb-15</td>\n",
       "      <td>1:24:39 PM</td>\n",
       "      <td>Customer Care Call</td>\n",
       "      <td>Ypsilanti</td>\n",
       "      <td>Michigan</td>\n",
       "      <td>48197</td>\n",
       "      <td>Solved</td>\n",
       "      <td>No</td>\n",
       "    </tr>\n",
       "    <tr>\n",
       "      <th>2221</th>\n",
       "      <td>331188</td>\n",
       "      <td>complaint about comcast</td>\n",
       "      <td>2015-09-06 00:00:00</td>\n",
       "      <td>06-Sep-15</td>\n",
       "      <td>5:28:41 PM</td>\n",
       "      <td>Internet</td>\n",
       "      <td>Ypsilanti</td>\n",
       "      <td>Michigan</td>\n",
       "      <td>48197</td>\n",
       "      <td>Solved</td>\n",
       "      <td>No</td>\n",
       "    </tr>\n",
       "    <tr>\n",
       "      <th>2222</th>\n",
       "      <td>360489</td>\n",
       "      <td>Extremely unsatisfied Comcast customer</td>\n",
       "      <td>2015-06-23 00:00:00</td>\n",
       "      <td>23-Jun-15</td>\n",
       "      <td>11:13:30 PM</td>\n",
       "      <td>Customer Care Call</td>\n",
       "      <td>Ypsilanti</td>\n",
       "      <td>Michigan</td>\n",
       "      <td>48197</td>\n",
       "      <td>Solved</td>\n",
       "      <td>No</td>\n",
       "    </tr>\n",
       "    <tr>\n",
       "      <th>2223</th>\n",
       "      <td>363614</td>\n",
       "      <td>Comcast, Ypsilanti MI Internet Speed</td>\n",
       "      <td>2015-06-24 00:00:00</td>\n",
       "      <td>24-Jun-15</td>\n",
       "      <td>10:28:33 PM</td>\n",
       "      <td>Customer Care Call</td>\n",
       "      <td>Ypsilanti</td>\n",
       "      <td>Michigan</td>\n",
       "      <td>48198</td>\n",
       "      <td>Open</td>\n",
       "      <td>Yes</td>\n",
       "    </tr>\n",
       "  </tbody>\n",
       "</table>\n",
       "<p>2224 rows × 11 columns</p>\n",
       "</div>"
      ],
      "text/plain": [
       "     Ticket #                                 Customer Complaint  \\\n",
       "0      250635                      Comcast Cable Internet Speeds   \n",
       "1      223441       Payment disappear - service got disconnected   \n",
       "2      242732                                  Speed and Service   \n",
       "3      277946  Comcast Imposed a New Usage Cap of 300GB that ...   \n",
       "4      307175         Comcast not working and no service to boot   \n",
       "...       ...                                                ...   \n",
       "2219   213550                               Service Availability   \n",
       "2220   318775         Comcast Monthly Billing for Returned Modem   \n",
       "2221   331188                            complaint about comcast   \n",
       "2222   360489             Extremely unsatisfied Comcast customer   \n",
       "2223   363614               Comcast, Ypsilanti MI Internet Speed   \n",
       "\n",
       "                     Date Date_month_year         Time        Received Via  \\\n",
       "0     2015-04-22 00:00:00       22-Apr-15   3:53:50 PM  Customer Care Call   \n",
       "1     2015-08-04 00:00:00       04-Aug-15  10:22:56 AM            Internet   \n",
       "2     2015-04-18 00:00:00       18-Apr-15   9:55:47 AM            Internet   \n",
       "3     2015-07-05 00:00:00       05-Jul-15  11:59:35 AM            Internet   \n",
       "4     2015-05-26 00:00:00       26-May-15   1:25:26 PM            Internet   \n",
       "...                   ...             ...          ...                 ...   \n",
       "2219  2015-02-04 00:00:00       04-Feb-15   9:13:18 AM  Customer Care Call   \n",
       "2220  2015-02-06 00:00:00       06-Feb-15   1:24:39 PM  Customer Care Call   \n",
       "2221  2015-09-06 00:00:00       06-Sep-15   5:28:41 PM            Internet   \n",
       "2222  2015-06-23 00:00:00       23-Jun-15  11:13:30 PM  Customer Care Call   \n",
       "2223  2015-06-24 00:00:00       24-Jun-15  10:28:33 PM  Customer Care Call   \n",
       "\n",
       "            City     State  Zip code  Status Filing on Behalf of Someone  \n",
       "0       Abingdon  Maryland     21009  Closed                          No  \n",
       "1        Acworth   Georgia     30102  Closed                          No  \n",
       "2        Acworth   Georgia     30101  Closed                         Yes  \n",
       "3        Acworth   Georgia     30101    Open                         Yes  \n",
       "4        Acworth   Georgia     30101  Solved                          No  \n",
       "...          ...       ...       ...     ...                         ...  \n",
       "2219  Youngstown   Florida     32466  Closed                          No  \n",
       "2220   Ypsilanti  Michigan     48197  Solved                          No  \n",
       "2221   Ypsilanti  Michigan     48197  Solved                          No  \n",
       "2222   Ypsilanti  Michigan     48197  Solved                          No  \n",
       "2223   Ypsilanti  Michigan     48198    Open                         Yes  \n",
       "\n",
       "[2224 rows x 11 columns]"
      ]
     },
     "execution_count": 14,
     "metadata": {},
     "output_type": "execute_result"
    }
   ],
   "source": [
    "df"
   ]
  },
  {
   "cell_type": "code",
   "execution_count": 15,
   "metadata": {
    "colab": {
     "base_uri": "https://localhost:8080/"
    },
    "id": "0NP1G7ahhaKu",
    "outputId": "c4dcd030-60e9-4433-ee2f-78d2835be6cf"
   },
   "outputs": [
    {
     "data": {
      "text/plain": [
       "Customer Care Call    1119\n",
       "Internet              1105\n",
       "Name: Received Via, dtype: int64"
      ]
     },
     "execution_count": 15,
     "metadata": {},
     "output_type": "execute_result"
    }
   ],
   "source": [
    "df['Received Via'].value_counts()"
   ]
  },
  {
   "cell_type": "code",
   "execution_count": null,
   "metadata": {
    "id": "nA4HpqRE6Zkz"
   },
   "outputs": [],
   "source": []
  },
  {
   "cell_type": "code",
   "execution_count": null,
   "metadata": {
    "id": "0F5SWQUb7cv9"
   },
   "outputs": [],
   "source": []
  },
  {
   "cell_type": "markdown",
   "metadata": {
    "id": "rdN2Q5pk7dTd"
   },
   "source": [
    "# Create a new categorical variable with value as Open and Closed. Open & Pending is to be categorized as Open and Closed & Solved is to be categorized as Closed"
   ]
  },
  {
   "cell_type": "code",
   "execution_count": 16,
   "metadata": {
    "colab": {
     "base_uri": "https://localhost:8080/"
    },
    "id": "e_0pHxK47i_X",
    "outputId": "a75afe89-b170-4b70-e271-a15192743d82"
   },
   "outputs": [
    {
     "data": {
      "text/plain": [
       "array(['Closed', 'Open', 'Solved', 'Pending'], dtype=object)"
      ]
     },
     "execution_count": 16,
     "metadata": {},
     "output_type": "execute_result"
    }
   ],
   "source": [
    "df['Status'].unique()"
   ]
  },
  {
   "cell_type": "code",
   "execution_count": 17,
   "metadata": {
    "colab": {
     "base_uri": "https://localhost:8080/"
    },
    "id": "n80GIxDeXPUg",
    "outputId": "46b0fe01-11ea-44d9-9f5a-b1d6051847d6"
   },
   "outputs": [
    {
     "name": "stderr",
     "output_type": "stream",
     "text": [
      "C:\\Users\\mujee\\AppData\\Local\\Temp/ipykernel_20064/3297002853.py:7: SettingWithCopyWarning: \n",
      "A value is trying to be set on a copy of a slice from a DataFrame\n",
      "\n",
      "See the caveats in the documentation: https://pandas.pydata.org/pandas-docs/stable/user_guide/indexing.html#returning-a-view-versus-a-copy\n",
      "  df['Status'][i]='Closed'\n",
      "C:\\Users\\mujee\\AppData\\Local\\Temp/ipykernel_20064/3297002853.py:5: SettingWithCopyWarning: \n",
      "A value is trying to be set on a copy of a slice from a DataFrame\n",
      "\n",
      "See the caveats in the documentation: https://pandas.pydata.org/pandas-docs/stable/user_guide/indexing.html#returning-a-view-versus-a-copy\n",
      "  df['Status'][i]='Open'\n"
     ]
    }
   ],
   "source": [
    "for i in range(0,2224):\n",
    "    \n",
    "    \n",
    "    if df['Status'][i]=='Pending':\n",
    "        df['Status'][i]='Open'\n",
    "    if df['Status'][i]=='Solved':\n",
    "        df['Status'][i]='Closed'\n",
    "\n"
   ]
  },
  {
   "cell_type": "code",
   "execution_count": 18,
   "metadata": {
    "colab": {
     "base_uri": "https://localhost:8080/",
     "height": 618
    },
    "id": "TvfdaOi3YKNs",
    "outputId": "ec6978a8-d223-46c6-f970-04f8b0e71ac6"
   },
   "outputs": [
    {
     "data": {
      "text/html": [
       "<div>\n",
       "<style scoped>\n",
       "    .dataframe tbody tr th:only-of-type {\n",
       "        vertical-align: middle;\n",
       "    }\n",
       "\n",
       "    .dataframe tbody tr th {\n",
       "        vertical-align: top;\n",
       "    }\n",
       "\n",
       "    .dataframe thead th {\n",
       "        text-align: right;\n",
       "    }\n",
       "</style>\n",
       "<table border=\"1\" class=\"dataframe\">\n",
       "  <thead>\n",
       "    <tr style=\"text-align: right;\">\n",
       "      <th></th>\n",
       "      <th>Ticket #</th>\n",
       "      <th>Customer Complaint</th>\n",
       "      <th>Date</th>\n",
       "      <th>Date_month_year</th>\n",
       "      <th>Time</th>\n",
       "      <th>Received Via</th>\n",
       "      <th>City</th>\n",
       "      <th>State</th>\n",
       "      <th>Zip code</th>\n",
       "      <th>Status</th>\n",
       "      <th>Filing on Behalf of Someone</th>\n",
       "    </tr>\n",
       "  </thead>\n",
       "  <tbody>\n",
       "    <tr>\n",
       "      <th>0</th>\n",
       "      <td>250635</td>\n",
       "      <td>Comcast Cable Internet Speeds</td>\n",
       "      <td>2015-04-22 00:00:00</td>\n",
       "      <td>22-Apr-15</td>\n",
       "      <td>3:53:50 PM</td>\n",
       "      <td>Customer Care Call</td>\n",
       "      <td>Abingdon</td>\n",
       "      <td>Maryland</td>\n",
       "      <td>21009</td>\n",
       "      <td>Closed</td>\n",
       "      <td>No</td>\n",
       "    </tr>\n",
       "    <tr>\n",
       "      <th>1</th>\n",
       "      <td>223441</td>\n",
       "      <td>Payment disappear - service got disconnected</td>\n",
       "      <td>2015-08-04 00:00:00</td>\n",
       "      <td>04-Aug-15</td>\n",
       "      <td>10:22:56 AM</td>\n",
       "      <td>Internet</td>\n",
       "      <td>Acworth</td>\n",
       "      <td>Georgia</td>\n",
       "      <td>30102</td>\n",
       "      <td>Closed</td>\n",
       "      <td>No</td>\n",
       "    </tr>\n",
       "    <tr>\n",
       "      <th>2</th>\n",
       "      <td>242732</td>\n",
       "      <td>Speed and Service</td>\n",
       "      <td>2015-04-18 00:00:00</td>\n",
       "      <td>18-Apr-15</td>\n",
       "      <td>9:55:47 AM</td>\n",
       "      <td>Internet</td>\n",
       "      <td>Acworth</td>\n",
       "      <td>Georgia</td>\n",
       "      <td>30101</td>\n",
       "      <td>Closed</td>\n",
       "      <td>Yes</td>\n",
       "    </tr>\n",
       "    <tr>\n",
       "      <th>3</th>\n",
       "      <td>277946</td>\n",
       "      <td>Comcast Imposed a New Usage Cap of 300GB that ...</td>\n",
       "      <td>2015-07-05 00:00:00</td>\n",
       "      <td>05-Jul-15</td>\n",
       "      <td>11:59:35 AM</td>\n",
       "      <td>Internet</td>\n",
       "      <td>Acworth</td>\n",
       "      <td>Georgia</td>\n",
       "      <td>30101</td>\n",
       "      <td>Open</td>\n",
       "      <td>Yes</td>\n",
       "    </tr>\n",
       "    <tr>\n",
       "      <th>4</th>\n",
       "      <td>307175</td>\n",
       "      <td>Comcast not working and no service to boot</td>\n",
       "      <td>2015-05-26 00:00:00</td>\n",
       "      <td>26-May-15</td>\n",
       "      <td>1:25:26 PM</td>\n",
       "      <td>Internet</td>\n",
       "      <td>Acworth</td>\n",
       "      <td>Georgia</td>\n",
       "      <td>30101</td>\n",
       "      <td>Closed</td>\n",
       "      <td>No</td>\n",
       "    </tr>\n",
       "    <tr>\n",
       "      <th>...</th>\n",
       "      <td>...</td>\n",
       "      <td>...</td>\n",
       "      <td>...</td>\n",
       "      <td>...</td>\n",
       "      <td>...</td>\n",
       "      <td>...</td>\n",
       "      <td>...</td>\n",
       "      <td>...</td>\n",
       "      <td>...</td>\n",
       "      <td>...</td>\n",
       "      <td>...</td>\n",
       "    </tr>\n",
       "    <tr>\n",
       "      <th>2219</th>\n",
       "      <td>213550</td>\n",
       "      <td>Service Availability</td>\n",
       "      <td>2015-02-04 00:00:00</td>\n",
       "      <td>04-Feb-15</td>\n",
       "      <td>9:13:18 AM</td>\n",
       "      <td>Customer Care Call</td>\n",
       "      <td>Youngstown</td>\n",
       "      <td>Florida</td>\n",
       "      <td>32466</td>\n",
       "      <td>Closed</td>\n",
       "      <td>No</td>\n",
       "    </tr>\n",
       "    <tr>\n",
       "      <th>2220</th>\n",
       "      <td>318775</td>\n",
       "      <td>Comcast Monthly Billing for Returned Modem</td>\n",
       "      <td>2015-02-06 00:00:00</td>\n",
       "      <td>06-Feb-15</td>\n",
       "      <td>1:24:39 PM</td>\n",
       "      <td>Customer Care Call</td>\n",
       "      <td>Ypsilanti</td>\n",
       "      <td>Michigan</td>\n",
       "      <td>48197</td>\n",
       "      <td>Closed</td>\n",
       "      <td>No</td>\n",
       "    </tr>\n",
       "    <tr>\n",
       "      <th>2221</th>\n",
       "      <td>331188</td>\n",
       "      <td>complaint about comcast</td>\n",
       "      <td>2015-09-06 00:00:00</td>\n",
       "      <td>06-Sep-15</td>\n",
       "      <td>5:28:41 PM</td>\n",
       "      <td>Internet</td>\n",
       "      <td>Ypsilanti</td>\n",
       "      <td>Michigan</td>\n",
       "      <td>48197</td>\n",
       "      <td>Closed</td>\n",
       "      <td>No</td>\n",
       "    </tr>\n",
       "    <tr>\n",
       "      <th>2222</th>\n",
       "      <td>360489</td>\n",
       "      <td>Extremely unsatisfied Comcast customer</td>\n",
       "      <td>2015-06-23 00:00:00</td>\n",
       "      <td>23-Jun-15</td>\n",
       "      <td>11:13:30 PM</td>\n",
       "      <td>Customer Care Call</td>\n",
       "      <td>Ypsilanti</td>\n",
       "      <td>Michigan</td>\n",
       "      <td>48197</td>\n",
       "      <td>Closed</td>\n",
       "      <td>No</td>\n",
       "    </tr>\n",
       "    <tr>\n",
       "      <th>2223</th>\n",
       "      <td>363614</td>\n",
       "      <td>Comcast, Ypsilanti MI Internet Speed</td>\n",
       "      <td>2015-06-24 00:00:00</td>\n",
       "      <td>24-Jun-15</td>\n",
       "      <td>10:28:33 PM</td>\n",
       "      <td>Customer Care Call</td>\n",
       "      <td>Ypsilanti</td>\n",
       "      <td>Michigan</td>\n",
       "      <td>48198</td>\n",
       "      <td>Open</td>\n",
       "      <td>Yes</td>\n",
       "    </tr>\n",
       "  </tbody>\n",
       "</table>\n",
       "<p>2224 rows × 11 columns</p>\n",
       "</div>"
      ],
      "text/plain": [
       "     Ticket #                                 Customer Complaint  \\\n",
       "0      250635                      Comcast Cable Internet Speeds   \n",
       "1      223441       Payment disappear - service got disconnected   \n",
       "2      242732                                  Speed and Service   \n",
       "3      277946  Comcast Imposed a New Usage Cap of 300GB that ...   \n",
       "4      307175         Comcast not working and no service to boot   \n",
       "...       ...                                                ...   \n",
       "2219   213550                               Service Availability   \n",
       "2220   318775         Comcast Monthly Billing for Returned Modem   \n",
       "2221   331188                            complaint about comcast   \n",
       "2222   360489             Extremely unsatisfied Comcast customer   \n",
       "2223   363614               Comcast, Ypsilanti MI Internet Speed   \n",
       "\n",
       "                     Date Date_month_year         Time        Received Via  \\\n",
       "0     2015-04-22 00:00:00       22-Apr-15   3:53:50 PM  Customer Care Call   \n",
       "1     2015-08-04 00:00:00       04-Aug-15  10:22:56 AM            Internet   \n",
       "2     2015-04-18 00:00:00       18-Apr-15   9:55:47 AM            Internet   \n",
       "3     2015-07-05 00:00:00       05-Jul-15  11:59:35 AM            Internet   \n",
       "4     2015-05-26 00:00:00       26-May-15   1:25:26 PM            Internet   \n",
       "...                   ...             ...          ...                 ...   \n",
       "2219  2015-02-04 00:00:00       04-Feb-15   9:13:18 AM  Customer Care Call   \n",
       "2220  2015-02-06 00:00:00       06-Feb-15   1:24:39 PM  Customer Care Call   \n",
       "2221  2015-09-06 00:00:00       06-Sep-15   5:28:41 PM            Internet   \n",
       "2222  2015-06-23 00:00:00       23-Jun-15  11:13:30 PM  Customer Care Call   \n",
       "2223  2015-06-24 00:00:00       24-Jun-15  10:28:33 PM  Customer Care Call   \n",
       "\n",
       "            City     State  Zip code  Status Filing on Behalf of Someone  \n",
       "0       Abingdon  Maryland     21009  Closed                          No  \n",
       "1        Acworth   Georgia     30102  Closed                          No  \n",
       "2        Acworth   Georgia     30101  Closed                         Yes  \n",
       "3        Acworth   Georgia     30101    Open                         Yes  \n",
       "4        Acworth   Georgia     30101  Closed                          No  \n",
       "...          ...       ...       ...     ...                         ...  \n",
       "2219  Youngstown   Florida     32466  Closed                          No  \n",
       "2220   Ypsilanti  Michigan     48197  Closed                          No  \n",
       "2221   Ypsilanti  Michigan     48197  Closed                          No  \n",
       "2222   Ypsilanti  Michigan     48197  Closed                          No  \n",
       "2223   Ypsilanti  Michigan     48198    Open                         Yes  \n",
       "\n",
       "[2224 rows x 11 columns]"
      ]
     },
     "execution_count": 18,
     "metadata": {},
     "output_type": "execute_result"
    }
   ],
   "source": [
    "df"
   ]
  },
  {
   "cell_type": "code",
   "execution_count": 19,
   "metadata": {
    "colab": {
     "base_uri": "https://localhost:8080/"
    },
    "id": "QQrCH__mYLgI",
    "outputId": "d4f93477-7bed-4606-bf44-844f98b10e4d"
   },
   "outputs": [
    {
     "data": {
      "text/plain": [
       "array(['Closed', 'Open'], dtype=object)"
      ]
     },
     "execution_count": 19,
     "metadata": {},
     "output_type": "execute_result"
    }
   ],
   "source": [
    "df['Status'].unique()"
   ]
  },
  {
   "cell_type": "markdown",
   "metadata": {
    "id": "dzNORSB_bAyp"
   },
   "source": [
    "#  Provide state wise status of complaints in a stacked bar chart. Use the categorized variable from Q3. Provide insights on:\n",
    "# Which state has the maximum complaints"
   ]
  },
  {
   "cell_type": "code",
   "execution_count": 20,
   "metadata": {
    "id": "juY_YVfjYR4l"
   },
   "outputs": [],
   "source": [
    "x=df['State'].unique()\n",
    "y=df['State'].value_counts()\n"
   ]
  },
  {
   "cell_type": "code",
   "execution_count": 21,
   "metadata": {
    "colab": {
     "base_uri": "https://localhost:8080/"
    },
    "id": "qGZcIoV2lw5s",
    "outputId": "a9c0cbc1-ee95-491d-e486-4cf3ce568e85"
   },
   "outputs": [
    {
     "data": {
      "text/plain": [
       "array(['Maryland', 'Georgia', 'Michigan', 'California', 'New Mexico',\n",
       "       'Indiana', 'Virginia', 'Illinois', 'Pennsylvania', 'Massachusetts',\n",
       "       'Oregon', 'Texas', 'New Hampshire', 'Minnesota', 'Tennessee',\n",
       "       'Colorado', 'Florida', 'Alabama', 'Washington', 'New York',\n",
       "       'New Jersey', 'Maine', 'Missouri', 'West Virginia', 'Montana',\n",
       "       'Mississippi', 'Connecticut', 'Vermont', 'Kentucky',\n",
       "       'South Carolina', 'Ohio', 'Utah', 'Delaware', 'Arkansas', 'Nevada',\n",
       "       'Louisiana', 'Kansas', 'Arizona', 'North Carolina', 'Rhode Island',\n",
       "       'District Of Columbia', 'District of Columbia', 'Iowa'],\n",
       "      dtype=object)"
      ]
     },
     "execution_count": 21,
     "metadata": {},
     "output_type": "execute_result"
    }
   ],
   "source": [
    "x"
   ]
  },
  {
   "cell_type": "code",
   "execution_count": 22,
   "metadata": {
    "colab": {
     "base_uri": "https://localhost:8080/"
    },
    "id": "TdmOS0hZlYBK",
    "outputId": "a152597e-0401-4af2-ad74-f14235d879fb"
   },
   "outputs": [
    {
     "data": {
      "text/plain": [
       "Georgia                 288\n",
       "Florida                 240\n",
       "California              220\n",
       "Illinois                164\n",
       "Tennessee               143\n",
       "Pennsylvania            130\n",
       "Michigan                115\n",
       "Washington               98\n",
       "Colorado                 80\n",
       "Maryland                 78\n",
       "New Jersey               75\n",
       "Texas                    71\n",
       "Massachusetts            61\n",
       "Virginia                 60\n",
       "Indiana                  59\n",
       "Oregon                   49\n",
       "Mississippi              39\n",
       "Minnesota                33\n",
       "Alabama                  26\n",
       "Utah                     22\n",
       "Arizona                  20\n",
       "South Carolina           18\n",
       "District Of Columbia     16\n",
       "New Mexico               15\n",
       "Louisiana                13\n",
       "Delaware                 12\n",
       "New Hampshire            12\n",
       "Connecticut              12\n",
       "West Virginia            11\n",
       "Kentucky                  7\n",
       "New York                  6\n",
       "Arkansas                  6\n",
       "Maine                     5\n",
       "Missouri                  4\n",
       "Ohio                      3\n",
       "Vermont                   3\n",
       "North Carolina            3\n",
       "Kansas                    2\n",
       "Nevada                    1\n",
       "Montana                   1\n",
       "Rhode Island              1\n",
       "District of Columbia      1\n",
       "Iowa                      1\n",
       "Name: State, dtype: int64"
      ]
     },
     "execution_count": 22,
     "metadata": {},
     "output_type": "execute_result"
    }
   ],
   "source": [
    "y"
   ]
  },
  {
   "cell_type": "code",
   "execution_count": 23,
   "metadata": {
    "colab": {
     "base_uri": "https://localhost:8080/",
     "height": 799
    },
    "id": "WlFJ6R6Abe19",
    "outputId": "99f4bf90-671a-4adc-cea8-42d426b5e120"
   },
   "outputs": [
    {
     "data": {
      "text/plain": [
       "Text(0.5, 1.0, 'Complaints per states')"
      ]
     },
     "execution_count": 23,
     "metadata": {},
     "output_type": "execute_result"
    },
    {
     "data": {
      "image/png": "[encoded data removed]",
      "text/plain": [
       "<Figure size 1440x864 with 1 Axes>"
      ]
     },
     "metadata": {
      "needs_background": "light"
     },
     "output_type": "display_data"
    }
   ],
   "source": [
    "plt.figure(figsize=(20,12))\n",
    "y.plot(kind='bar')\n",
    "plt.xlabel('States')\n",
    "plt.ylabel('Complaints')\n",
    "plt.title('Complaints per states')"
   ]
  },
  {
   "cell_type": "code",
   "execution_count": null,
   "metadata": {
    "id": "SR9mMRTtdyBv"
   },
   "outputs": [],
   "source": []
  },
  {
   "cell_type": "markdown",
   "metadata": {
    "id": "9uBJs1wpn1FO"
   },
   "source": [
    "# Which state has the highest percentage of unresolved complaints"
   ]
  },
  {
   "cell_type": "code",
   "execution_count": 24,
   "metadata": {
    "colab": {
     "base_uri": "https://localhost:8080/",
     "height": 321
    },
    "id": "BkFlMXM6roT4",
    "outputId": "37d99459-2fd9-4ad2-dc50-6dfc5a98476f"
   },
   "outputs": [
    {
     "data": {
      "text/html": [
       "<div>\n",
       "<style scoped>\n",
       "    .dataframe tbody tr th:only-of-type {\n",
       "        vertical-align: middle;\n",
       "    }\n",
       "\n",
       "    .dataframe tbody tr th {\n",
       "        vertical-align: top;\n",
       "    }\n",
       "\n",
       "    .dataframe thead th {\n",
       "        text-align: right;\n",
       "    }\n",
       "</style>\n",
       "<table border=\"1\" class=\"dataframe\">\n",
       "  <thead>\n",
       "    <tr style=\"text-align: right;\">\n",
       "      <th></th>\n",
       "      <th>Ticket #</th>\n",
       "      <th>Customer Complaint</th>\n",
       "      <th>Date</th>\n",
       "      <th>Date_month_year</th>\n",
       "      <th>Time</th>\n",
       "      <th>Received Via</th>\n",
       "      <th>City</th>\n",
       "      <th>State</th>\n",
       "      <th>Zip code</th>\n",
       "      <th>Status</th>\n",
       "      <th>Filing on Behalf of Someone</th>\n",
       "    </tr>\n",
       "  </thead>\n",
       "  <tbody>\n",
       "    <tr>\n",
       "      <th>0</th>\n",
       "      <td>250635</td>\n",
       "      <td>Comcast Cable Internet Speeds</td>\n",
       "      <td>2015-04-22 00:00:00</td>\n",
       "      <td>22-Apr-15</td>\n",
       "      <td>3:53:50 PM</td>\n",
       "      <td>Customer Care Call</td>\n",
       "      <td>Abingdon</td>\n",
       "      <td>Maryland</td>\n",
       "      <td>21009</td>\n",
       "      <td>Closed</td>\n",
       "      <td>No</td>\n",
       "    </tr>\n",
       "    <tr>\n",
       "      <th>1</th>\n",
       "      <td>223441</td>\n",
       "      <td>Payment disappear - service got disconnected</td>\n",
       "      <td>2015-08-04 00:00:00</td>\n",
       "      <td>04-Aug-15</td>\n",
       "      <td>10:22:56 AM</td>\n",
       "      <td>Internet</td>\n",
       "      <td>Acworth</td>\n",
       "      <td>Georgia</td>\n",
       "      <td>30102</td>\n",
       "      <td>Closed</td>\n",
       "      <td>No</td>\n",
       "    </tr>\n",
       "    <tr>\n",
       "      <th>2</th>\n",
       "      <td>242732</td>\n",
       "      <td>Speed and Service</td>\n",
       "      <td>2015-04-18 00:00:00</td>\n",
       "      <td>18-Apr-15</td>\n",
       "      <td>9:55:47 AM</td>\n",
       "      <td>Internet</td>\n",
       "      <td>Acworth</td>\n",
       "      <td>Georgia</td>\n",
       "      <td>30101</td>\n",
       "      <td>Closed</td>\n",
       "      <td>Yes</td>\n",
       "    </tr>\n",
       "    <tr>\n",
       "      <th>3</th>\n",
       "      <td>277946</td>\n",
       "      <td>Comcast Imposed a New Usage Cap of 300GB that ...</td>\n",
       "      <td>2015-07-05 00:00:00</td>\n",
       "      <td>05-Jul-15</td>\n",
       "      <td>11:59:35 AM</td>\n",
       "      <td>Internet</td>\n",
       "      <td>Acworth</td>\n",
       "      <td>Georgia</td>\n",
       "      <td>30101</td>\n",
       "      <td>Open</td>\n",
       "      <td>Yes</td>\n",
       "    </tr>\n",
       "    <tr>\n",
       "      <th>4</th>\n",
       "      <td>307175</td>\n",
       "      <td>Comcast not working and no service to boot</td>\n",
       "      <td>2015-05-26 00:00:00</td>\n",
       "      <td>26-May-15</td>\n",
       "      <td>1:25:26 PM</td>\n",
       "      <td>Internet</td>\n",
       "      <td>Acworth</td>\n",
       "      <td>Georgia</td>\n",
       "      <td>30101</td>\n",
       "      <td>Closed</td>\n",
       "      <td>No</td>\n",
       "    </tr>\n",
       "  </tbody>\n",
       "</table>\n",
       "</div>"
      ],
      "text/plain": [
       "  Ticket #                                 Customer Complaint  \\\n",
       "0   250635                      Comcast Cable Internet Speeds   \n",
       "1   223441       Payment disappear - service got disconnected   \n",
       "2   242732                                  Speed and Service   \n",
       "3   277946  Comcast Imposed a New Usage Cap of 300GB that ...   \n",
       "4   307175         Comcast not working and no service to boot   \n",
       "\n",
       "                  Date Date_month_year         Time        Received Via  \\\n",
       "0  2015-04-22 00:00:00       22-Apr-15   3:53:50 PM  Customer Care Call   \n",
       "1  2015-08-04 00:00:00       04-Aug-15  10:22:56 AM            Internet   \n",
       "2  2015-04-18 00:00:00       18-Apr-15   9:55:47 AM            Internet   \n",
       "3  2015-07-05 00:00:00       05-Jul-15  11:59:35 AM            Internet   \n",
       "4  2015-05-26 00:00:00       26-May-15   1:25:26 PM            Internet   \n",
       "\n",
       "       City     State  Zip code  Status Filing on Behalf of Someone  \n",
       "0  Abingdon  Maryland     21009  Closed                          No  \n",
       "1   Acworth   Georgia     30102  Closed                          No  \n",
       "2   Acworth   Georgia     30101  Closed                         Yes  \n",
       "3   Acworth   Georgia     30101    Open                         Yes  \n",
       "4   Acworth   Georgia     30101  Closed                          No  "
      ]
     },
     "execution_count": 24,
     "metadata": {},
     "output_type": "execute_result"
    }
   ],
   "source": [
    "df.head()"
   ]
  },
  {
   "cell_type": "code",
   "execution_count": 25,
   "metadata": {
    "colab": {
     "base_uri": "https://localhost:8080/"
    },
    "id": "q5cPlBNJn283",
    "outputId": "ae94d20a-c16d-4d67-b075-8a2ca11ae29c"
   },
   "outputs": [
    {
     "data": {
      "text/plain": [
       "Closed    1707\n",
       "Open       517\n",
       "Name: Status, dtype: int64"
      ]
     },
     "execution_count": 25,
     "metadata": {},
     "output_type": "execute_result"
    }
   ],
   "source": [
    "df['Status'].value_counts()"
   ]
  },
  {
   "cell_type": "code",
   "execution_count": 26,
   "metadata": {
    "id": "UmMXdHSpoCT0"
   },
   "outputs": [],
   "source": [
    "\n",
    "de=df['State'].value_counts()"
   ]
  },
  {
   "cell_type": "code",
   "execution_count": 27,
   "metadata": {
    "colab": {
     "base_uri": "https://localhost:8080/"
    },
    "id": "paMtvOLdtr7x",
    "outputId": "c58a47f8-0737-4e53-820d-23bb03cd7a63"
   },
   "outputs": [
    {
     "data": {
      "text/plain": [
       "Georgia                 288\n",
       "Florida                 240\n",
       "California              220\n",
       "Illinois                164\n",
       "Tennessee               143\n",
       "Pennsylvania            130\n",
       "Michigan                115\n",
       "Washington               98\n",
       "Colorado                 80\n",
       "Maryland                 78\n",
       "New Jersey               75\n",
       "Texas                    71\n",
       "Massachusetts            61\n",
       "Virginia                 60\n",
       "Indiana                  59\n",
       "Oregon                   49\n",
       "Mississippi              39\n",
       "Minnesota                33\n",
       "Alabama                  26\n",
       "Utah                     22\n",
       "Arizona                  20\n",
       "South Carolina           18\n",
       "District Of Columbia     16\n",
       "New Mexico               15\n",
       "Louisiana                13\n",
       "Delaware                 12\n",
       "New Hampshire            12\n",
       "Connecticut              12\n",
       "West Virginia            11\n",
       "Kentucky                  7\n",
       "New York                  6\n",
       "Arkansas                  6\n",
       "Maine                     5\n",
       "Missouri                  4\n",
       "Ohio                      3\n",
       "Vermont                   3\n",
       "North Carolina            3\n",
       "Kansas                    2\n",
       "Nevada                    1\n",
       "Montana                   1\n",
       "Rhode Island              1\n",
       "District of Columbia      1\n",
       "Iowa                      1\n",
       "Name: State, dtype: int64"
      ]
     },
     "execution_count": 27,
     "metadata": {},
     "output_type": "execute_result"
    }
   ],
   "source": [
    "de"
   ]
  },
  {
   "cell_type": "code",
   "execution_count": 28,
   "metadata": {
    "id": "X03VjroXqZS1"
   },
   "outputs": [],
   "source": [
    "num=(df['State'].loc[df['Status']=='Open']).value_counts()"
   ]
  },
  {
   "cell_type": "code",
   "execution_count": 29,
   "metadata": {
    "colab": {
     "base_uri": "https://localhost:8080/"
    },
    "id": "DMxQ7WKGtwWz",
    "outputId": "8bbf5069-83ae-49b6-8397-65017e9698c8"
   },
   "outputs": [
    {
     "data": {
      "text/plain": [
       "Georgia                 80\n",
       "California              61\n",
       "Tennessee               47\n",
       "Florida                 39\n",
       "Illinois                29\n",
       "Michigan                23\n",
       "Washington              23\n",
       "Texas                   22\n",
       "Colorado                22\n",
       "Pennsylvania            20\n",
       "New Jersey              19\n",
       "Mississippi             16\n",
       "Maryland                15\n",
       "Oregon                  13\n",
       "Massachusetts           11\n",
       "Virginia                11\n",
       "Indiana                  9\n",
       "Alabama                  9\n",
       "Arizona                  6\n",
       "Utah                     6\n",
       "New Hampshire            4\n",
       "Delaware                 4\n",
       "Minnesota                4\n",
       "New Mexico               4\n",
       "Connecticut              3\n",
       "West Virginia            3\n",
       "South Carolina           3\n",
       "Kentucky                 3\n",
       "Maine                    2\n",
       "District Of Columbia     2\n",
       "Missouri                 1\n",
       "Vermont                  1\n",
       "Kansas                   1\n",
       "Louisiana                1\n",
       "Name: State, dtype: int64"
      ]
     },
     "execution_count": 29,
     "metadata": {},
     "output_type": "execute_result"
    }
   ],
   "source": [
    "num"
   ]
  },
  {
   "cell_type": "code",
   "execution_count": 30,
   "metadata": {
    "colab": {
     "base_uri": "https://localhost:8080/"
    },
    "id": "UA5vYQRPsIeA",
    "outputId": "99e85f3c-c57e-41e4-e599-3f8401a63b0d"
   },
   "outputs": [
    {
     "data": {
      "text/plain": [
       "Alabama                 34.615385\n",
       "Arizona                 30.000000\n",
       "Arkansas                      NaN\n",
       "California              27.727273\n",
       "Colorado                27.500000\n",
       "Connecticut             25.000000\n",
       "Delaware                33.333333\n",
       "District Of Columbia    12.500000\n",
       "District of Columbia          NaN\n",
       "Florida                 16.250000\n",
       "Georgia                 27.777778\n",
       "Illinois                17.682927\n",
       "Indiana                 15.254237\n",
       "Iowa                          NaN\n",
       "Kansas                  50.000000\n",
       "Kentucky                42.857143\n",
       "Louisiana                7.692308\n",
       "Maine                   40.000000\n",
       "Maryland                19.230769\n",
       "Massachusetts           18.032787\n",
       "Michigan                20.000000\n",
       "Minnesota               12.121212\n",
       "Mississippi             41.025641\n",
       "Missouri                25.000000\n",
       "Montana                       NaN\n",
       "Nevada                        NaN\n",
       "New Hampshire           33.333333\n",
       "New Jersey              25.333333\n",
       "New Mexico              26.666667\n",
       "New York                      NaN\n",
       "North Carolina                NaN\n",
       "Ohio                          NaN\n",
       "Oregon                  26.530612\n",
       "Pennsylvania            15.384615\n",
       "Rhode Island                  NaN\n",
       "South Carolina          16.666667\n",
       "Tennessee               32.867133\n",
       "Texas                   30.985915\n",
       "Utah                    27.272727\n",
       "Vermont                 33.333333\n",
       "Virginia                18.333333\n",
       "Washington              23.469388\n",
       "West Virginia           27.272727\n",
       "Name: State, dtype: float64"
      ]
     },
     "execution_count": 30,
     "metadata": {},
     "output_type": "execute_result"
    }
   ],
   "source": [
    "per=(num/de)*100\n",
    "per"
   ]
  },
  {
   "cell_type": "code",
   "execution_count": 31,
   "metadata": {
    "colab": {
     "base_uri": "https://localhost:8080/"
    },
    "id": "c1ZRbO7uu87A",
    "outputId": "ef2da5b7-9702-49a2-c13a-e91b668f3abb"
   },
   "outputs": [
    {
     "data": {
      "text/plain": [
       "50.0"
      ]
     },
     "execution_count": 31,
     "metadata": {},
     "output_type": "execute_result"
    }
   ],
   "source": [
    "max(per)"
   ]
  },
  {
   "cell_type": "markdown",
   "metadata": {
    "id": "87BgJldqv_Wb"
   },
   "source": [
    "## The max of 50.0 has an unsolved Complaints in the State of Kansas"
   ]
  },
  {
   "cell_type": "code",
   "execution_count": null,
   "metadata": {
    "id": "9W_sikJyvQuE"
   },
   "outputs": [],
   "source": []
  }
 ],
 "metadata": {
  "colab": {
   "collapsed_sections": [],
   "name": "Project 3 comcast",
   "provenance": []
  },
  "kernelspec": {
   "display_name": "Python 3 (ipykernel)",
   "language": "python",
   "name": "python3"
  },
  "language_info": {
   "codemirror_mode": {
    "name": "ipython",
    "version": 3
   },
   "file_extension": ".py",
   "mimetype": "text/x-python",
   "name": "python",
   "nbconvert_exporter": "python",
   "pygments_lexer": "ipython3",
   "version": "3.8.11"
  }
 },
 "nbformat": 4,
 "nbformat_minor": 1
}
